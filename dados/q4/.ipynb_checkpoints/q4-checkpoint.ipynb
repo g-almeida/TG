{
 "cells": [
  {
   "cell_type": "markdown",
   "metadata": {},
   "source": [
    "# Dados - Q4"
   ]
  },
  {
   "cell_type": "code",
   "execution_count": 2,
   "metadata": {},
   "outputs": [],
   "source": [
    "import requests\n",
    "import numpy as np\n",
    "import pandas as pd\n",
    "import datetime\n",
    "import xarray as xr\n",
    "import urllib"
   ]
  },
  {
   "cell_type": "markdown",
   "metadata": {},
   "source": [
    "## API\n",
    "Dados obtidos em: \n",
    "https://www.ncei.noaa.gov/data/sea-surface-temperature-optimum-interpolation/v2.1/access/avhrr/202109/\n",
    "\n",
    "Data escolhida: (10/09/2021)"
   ]
  },
  {
   "cell_type": "code",
   "execution_count": 3,
   "metadata": {},
   "outputs": [
    {
     "data": {
      "text/plain": [
       "('/tmp/tmp.nc', <http.client.HTTPMessage at 0x7f21899275b0>)"
      ]
     },
     "execution_count": 3,
     "metadata": {},
     "output_type": "execute_result"
    }
   ],
   "source": [
    "import urllib\n",
    "url = 'https://www.ncei.noaa.gov/data/sea-surface-temperature-optimum-interpolation/v2.1/access/avhrr/202109/oisst-avhrr-v02r01.20210910.nc'\n",
    "temp_nc = \"oisst-avhrr-v02r01.20210910.nc\"\n",
    "urllib.request.urlretrieve(url, temp_nc)"
   ]
  },
  {
   "cell_type": "markdown",
   "metadata": {},
   "source": [
    "## Recortes e cálculos"
   ]
  },
  {
   "cell_type": "code",
   "execution_count": 123,
   "metadata": {},
   "outputs": [],
   "source": [
    "def longitude_formatter(val=float):\n",
    "    '''\n",
    "    Adapta longitude de -180 > 180 para 0 > 360\n",
    "    \n",
    "    Valores entre 0 e 180 são graus a Leste, estes se mantém.\n",
    "    Enquanto se forem entre -180 e 0, soma-se 360.\n",
    "    '''\n",
    "    if val < 0:\n",
    "        val += 360\n",
    "    return val"
   ]
  },
  {
   "cell_type": "code",
   "execution_count": 126,
   "metadata": {},
   "outputs": [],
   "source": [
    "def dataset_reader(path, lat_slice=None, lon_slice=None):\n",
    "    '''\n",
    "    Lê o dado netcdf e recorta lat e lon.\n",
    "    '''\n",
    "    sst = xr.open_dataset(path)\n",
    "\n",
    "    if lat_slice != None:\n",
    "        sst = sst.sel(lat=slice(lat_slice[0], lat_slice[1]))\n",
    "        \n",
    "    if lon_slice != None:\n",
    "        # deve entrar o <longitude_formatter()> pra adaptar os valores de entrada em lon_slice pros padrões do dataset (0-360) \n",
    "        lon_slice[0] = longitude_formatter(lon_slice[0])\n",
    "        lon_slice[1] = longitude_formatter(lon_slice[1])\n",
    "\n",
    "        sst = sst.sel(lon=slice(lon_slice[0], lon_slice[1]))\n",
    "        \n",
    "    return sst"
   ]
  },
  {
   "cell_type": "code",
   "execution_count": 156,
   "metadata": {},
   "outputs": [],
   "source": [
    "Nino1_2 = dataset_reader(\"oisst-avhrr-v02r01.20210910.nc\", lat_slice=[-10,0], lon_slice=[-90,-80])\n",
    "Nino3_4 = dataset_reader(\"oisst-avhrr-v02r01.20210910.nc\", lat_slice=[-5,5], lon_slice=[-170,-120])\n",
    "cbm = dataset_reader(\"oisst-avhrr-v02r01.20210910.nc\", lat_slice=[-43,-33], lon_slice=[-63,-48])\n",
    "positions = {'Nino 1+2':Nino1_2, 'Nino 3_4':Nino3_4, 'CBM':cbm}"
   ]
  },
  {
   "cell_type": "code",
   "execution_count": 157,
   "metadata": {},
   "outputs": [],
   "source": [
    "# Calculando as médias\n",
    "for cada in positions:\n",
    "    media = positions[cada].sst.mean().values\n",
    "    positions[cada] = media"
   ]
  },
  {
   "cell_type": "code",
   "execution_count": 180,
   "metadata": {},
   "outputs": [],
   "source": [
    "# Transformando em dataframe\n",
    "df = pd.DataFrame(index=positions.keys())\n",
    "df['SST'] = positions.values()"
   ]
  },
  {
   "cell_type": "code",
   "execution_count": 181,
   "metadata": {},
   "outputs": [
    {
     "data": {
      "text/html": [
       "<div>\n",
       "<style scoped>\n",
       "    .dataframe tbody tr th:only-of-type {\n",
       "        vertical-align: middle;\n",
       "    }\n",
       "\n",
       "    .dataframe tbody tr th {\n",
       "        vertical-align: top;\n",
       "    }\n",
       "\n",
       "    .dataframe thead th {\n",
       "        text-align: right;\n",
       "    }\n",
       "</style>\n",
       "<table border=\"1\" class=\"dataframe\">\n",
       "  <thead>\n",
       "    <tr style=\"text-align: right;\">\n",
       "      <th></th>\n",
       "      <th>SST</th>\n",
       "    </tr>\n",
       "  </thead>\n",
       "  <tbody>\n",
       "    <tr>\n",
       "      <th>Nino 1+2</th>\n",
       "      <td>20.662952</td>\n",
       "    </tr>\n",
       "    <tr>\n",
       "      <th>Nino 3_4</th>\n",
       "      <td>26.588938</td>\n",
       "    </tr>\n",
       "    <tr>\n",
       "      <th>CBM</th>\n",
       "      <td>12.779157</td>\n",
       "    </tr>\n",
       "  </tbody>\n",
       "</table>\n",
       "</div>"
      ],
      "text/plain": [
       "                SST\n",
       "Nino 1+2  20.662952\n",
       "Nino 3_4  26.588938\n",
       "CBM       12.779157"
      ]
     },
     "execution_count": 181,
     "metadata": {},
     "output_type": "execute_result"
    }
   ],
   "source": [
    "df.to_csv('sea_surface_temperature.csv')\n",
    "df"
   ]
  }
 ],
 "metadata": {
  "interpreter": {
   "hash": "eb8a7b46cb307c93c0dbb1ad4a66b22036c6d642c1d2382d23b07df093a7d948"
  },
  "kernelspec": {
   "display_name": "Python 3 (ipykernel)",
   "language": "python",
   "name": "python3"
  },
  "language_info": {
   "codemirror_mode": {
    "name": "ipython",
    "version": 3
   },
   "file_extension": ".py",
   "mimetype": "text/x-python",
   "name": "python",
   "nbconvert_exporter": "python",
   "pygments_lexer": "ipython3",
   "version": "3.8.11"
  }
 },
 "nbformat": 4,
 "nbformat_minor": 4
}
