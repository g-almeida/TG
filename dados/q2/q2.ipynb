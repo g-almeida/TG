{
 "cells": [
  {
   "cell_type": "markdown",
   "source": [
    "# Dados - Q2"
   ],
   "metadata": {}
  },
  {
   "cell_type": "code",
   "execution_count": 1,
   "source": [
    "import pandas as pd\n",
    "import numpy as np\n",
    "import datetime\n",
    "import json"
   ],
   "outputs": [],
   "metadata": {}
  },
  {
   "cell_type": "markdown",
   "source": [
    "## Começando transformando o arquivo DP.txt em um DataFrame para melhor manipulação"
   ],
   "metadata": {}
  },
  {
   "cell_type": "code",
   "execution_count": 2,
   "source": [
    "txt_file = open('DP.txt')\n",
    "txt_new = list()\n",
    "columns = list()\n",
    "val = list()\n",
    "dit = dict()\n",
    "\n",
    "for line in txt_file:\n",
    "    line=line.rstrip('\\n')\n",
    "    txt_new.append(line)\n",
    "\n",
    "    # Pegando o nome das colunas\n",
    "    if 'Demanda' in line:\n",
    "        first_row = line.split(' ')\n",
    "        for cada in first_row:\n",
    "            if cada != '' and cada != '&' and cada != 'df' and cada != 'hf':\n",
    "                columns.append(cada)\n",
    "                \n",
    "    \n",
    "    if line.startswith('DP'):\n",
    "        item_list = list()\n",
    "        for item in line.split(' '):\n",
    "            if item != '' and item != 'DP':\n",
    "                item_list.append(item)\n",
    "                val.append(item_list)"
   ],
   "outputs": [],
   "metadata": {}
  },
  {
   "cell_type": "code",
   "execution_count": 3,
   "source": [
    "ss = list()\n",
    "di = list()\n",
    "hi = list()\n",
    "m1 = list()\n",
    "m2 = list()\n",
    "dem = list()\n",
    "for cada in val:\n",
    "    ss.append(cada[0])\n",
    "    di.append(cada[1])\n",
    "    hi.append(cada[2])\n",
    "    m1.append(cada[3])\n",
    "    m2.append(cada[4])\n",
    "    dem.append(cada[5])"
   ],
   "outputs": [],
   "metadata": {}
  },
  {
   "cell_type": "code",
   "execution_count": 4,
   "source": [
    "dit.update({columns[0]:ss, columns[1]:di, columns[2]:hi, columns[3]:m1, columns[5]:dem})"
   ],
   "outputs": [],
   "metadata": {}
  },
  {
   "cell_type": "code",
   "execution_count": 5,
   "source": [
    "df = pd.DataFrame(dit)\n",
    "# Adaptando as siglas para os nomes requisitados\n",
    "df['ss'] = df['ss'].replace('1','seco').replace('2','s').replace('3','ne').replace('4','n').replace('11','imperatriz')\n",
    "df['Demanda'] = df['Demanda'].apply(lambda x: float(x))\n"
   ],
   "outputs": [],
   "metadata": {}
  },
  {
   "cell_type": "code",
   "execution_count": 6,
   "source": [
    "df"
   ],
   "outputs": [
    {
     "output_type": "execute_result",
     "data": {
      "text/html": [
       "<div>\n",
       "<style scoped>\n",
       "    .dataframe tbody tr th:only-of-type {\n",
       "        vertical-align: middle;\n",
       "    }\n",
       "\n",
       "    .dataframe tbody tr th {\n",
       "        vertical-align: top;\n",
       "    }\n",
       "\n",
       "    .dataframe thead th {\n",
       "        text-align: right;\n",
       "    }\n",
       "</style>\n",
       "<table border=\"1\" class=\"dataframe\">\n",
       "  <thead>\n",
       "    <tr style=\"text-align: right;\">\n",
       "      <th></th>\n",
       "      <th>ss</th>\n",
       "      <th>di</th>\n",
       "      <th>hi</th>\n",
       "      <th>m</th>\n",
       "      <th>Demanda</th>\n",
       "    </tr>\n",
       "  </thead>\n",
       "  <tbody>\n",
       "    <tr>\n",
       "      <th>0</th>\n",
       "      <td>seco</td>\n",
       "      <td>2</td>\n",
       "      <td>0</td>\n",
       "      <td>0</td>\n",
       "      <td>36703.0</td>\n",
       "    </tr>\n",
       "    <tr>\n",
       "      <th>1</th>\n",
       "      <td>seco</td>\n",
       "      <td>2</td>\n",
       "      <td>0</td>\n",
       "      <td>0</td>\n",
       "      <td>36703.0</td>\n",
       "    </tr>\n",
       "    <tr>\n",
       "      <th>2</th>\n",
       "      <td>seco</td>\n",
       "      <td>2</td>\n",
       "      <td>0</td>\n",
       "      <td>0</td>\n",
       "      <td>36703.0</td>\n",
       "    </tr>\n",
       "    <tr>\n",
       "      <th>3</th>\n",
       "      <td>seco</td>\n",
       "      <td>2</td>\n",
       "      <td>0</td>\n",
       "      <td>0</td>\n",
       "      <td>36703.0</td>\n",
       "    </tr>\n",
       "    <tr>\n",
       "      <th>4</th>\n",
       "      <td>seco</td>\n",
       "      <td>2</td>\n",
       "      <td>0</td>\n",
       "      <td>0</td>\n",
       "      <td>36703.0</td>\n",
       "    </tr>\n",
       "    <tr>\n",
       "      <th>...</th>\n",
       "      <td>...</td>\n",
       "      <td>...</td>\n",
       "      <td>...</td>\n",
       "      <td>...</td>\n",
       "      <td>...</td>\n",
       "    </tr>\n",
       "    <tr>\n",
       "      <th>1321</th>\n",
       "      <td>imperatriz</td>\n",
       "      <td>2</td>\n",
       "      <td>0</td>\n",
       "      <td>0</td>\n",
       "      <td>0.0</td>\n",
       "    </tr>\n",
       "    <tr>\n",
       "      <th>1322</th>\n",
       "      <td>imperatriz</td>\n",
       "      <td>2</td>\n",
       "      <td>0</td>\n",
       "      <td>0</td>\n",
       "      <td>0.0</td>\n",
       "    </tr>\n",
       "    <tr>\n",
       "      <th>1323</th>\n",
       "      <td>imperatriz</td>\n",
       "      <td>2</td>\n",
       "      <td>0</td>\n",
       "      <td>0</td>\n",
       "      <td>0.0</td>\n",
       "    </tr>\n",
       "    <tr>\n",
       "      <th>1324</th>\n",
       "      <td>imperatriz</td>\n",
       "      <td>2</td>\n",
       "      <td>0</td>\n",
       "      <td>0</td>\n",
       "      <td>0.0</td>\n",
       "    </tr>\n",
       "    <tr>\n",
       "      <th>1325</th>\n",
       "      <td>imperatriz</td>\n",
       "      <td>2</td>\n",
       "      <td>0</td>\n",
       "      <td>0</td>\n",
       "      <td>0.0</td>\n",
       "    </tr>\n",
       "  </tbody>\n",
       "</table>\n",
       "<p>1326 rows × 5 columns</p>\n",
       "</div>"
      ],
      "text/plain": [
       "              ss di hi  m  Demanda\n",
       "0           seco  2  0  0  36703.0\n",
       "1           seco  2  0  0  36703.0\n",
       "2           seco  2  0  0  36703.0\n",
       "3           seco  2  0  0  36703.0\n",
       "4           seco  2  0  0  36703.0\n",
       "...          ... .. .. ..      ...\n",
       "1321  imperatriz  2  0  0      0.0\n",
       "1322  imperatriz  2  0  0      0.0\n",
       "1323  imperatriz  2  0  0      0.0\n",
       "1324  imperatriz  2  0  0      0.0\n",
       "1325  imperatriz  2  0  0      0.0\n",
       "\n",
       "[1326 rows x 5 columns]"
      ]
     },
     "metadata": {},
     "execution_count": 6
    }
   ],
   "metadata": {}
  },
  {
   "cell_type": "code",
   "execution_count": 7,
   "source": [
    "# Avaliando os dias no conjunto de dados. Entende-se então que significam os dias à frente da data inicial.\n",
    "df['di'].unique()"
   ],
   "outputs": [
    {
     "output_type": "execute_result",
     "data": {
      "text/plain": [
       "array(['2', '3', '4'], dtype=object)"
      ]
     },
     "metadata": {},
     "execution_count": 7
    }
   ],
   "metadata": {}
  },
  {
   "cell_type": "markdown",
   "source": [
    "## Criando a lista de dicionários que irá construir o JSON"
   ],
   "metadata": {}
  },
  {
   "cell_type": "code",
   "execution_count": 8,
   "source": [
    "datetime_list = []\n",
    "pre_json = []\n",
    "\n",
    "for cada in df.index:\n",
    "    # Assumida a data inicial como a do exemplo\n",
    "    issueDate = datetime.datetime(2021,9,25)\n",
    "    valores_list = list()\n",
    "    \n",
    "    dia = df.loc[cada]['di']\n",
    "    hr = df.loc[cada]['hi']\n",
    "    \n",
    "    if df.loc[cada]['m'] != '0':\n",
    "        min = 30\n",
    "    else:\n",
    "        min = 0\n",
    "\n",
    "    valueDate = issueDate + datetime.timedelta(days=int(dia))\n",
    "    valueDate += datetime.timedelta(hours=int(hr))\n",
    "    valueDate += datetime.timedelta(minutes=min)\n",
    "    datetime_list.append(valueDate)\n",
    "\n",
    "    valores_list = [{'Demanda':float(df.loc[cada]['Demanda']), 'data':valueDate}]\n",
    "    pre_json.append({'subsistema': df.loc[cada]['ss'], 'data_partida':issueDate, 'valores':valores_list})"
   ],
   "outputs": [],
   "metadata": {}
  },
  {
   "cell_type": "code",
   "execution_count": 9,
   "source": [
    "# Apenas para visualização do conjunto de dados\n",
    "df['datetime']=datetime_list\n"
   ],
   "outputs": [],
   "metadata": {}
  },
  {
   "cell_type": "code",
   "execution_count": 10,
   "source": [
    "# Transformando o dataframe em json\n",
    "json_dict = {'Carga':pre_json}\n",
    "with open('carga.json', 'w') as outfile:\n",
    "    json.dump(json_dict, outfile, indent=4, default=str)"
   ],
   "outputs": [],
   "metadata": {}
  },
  {
   "cell_type": "code",
   "execution_count": null,
   "source": [],
   "outputs": [],
   "metadata": {}
  }
 ],
 "metadata": {
  "interpreter": {
   "hash": "eb8a7b46cb307c93c0dbb1ad4a66b22036c6d642c1d2382d23b07df093a7d948"
  },
  "kernelspec": {
   "name": "python3",
   "display_name": "Python 3.8.3 64-bit ('smap': conda)"
  },
  "language_info": {
   "codemirror_mode": {
    "name": "ipython",
    "version": 3
   },
   "file_extension": ".py",
   "mimetype": "text/x-python",
   "name": "python",
   "nbconvert_exporter": "python",
   "pygments_lexer": "ipython3",
   "version": "3.8.3"
  }
 },
 "nbformat": 4,
 "nbformat_minor": 4
}