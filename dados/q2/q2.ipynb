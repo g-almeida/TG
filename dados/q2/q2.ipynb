{
 "cells": [
  {
   "cell_type": "markdown",
   "source": [
    "# Dados - Q2"
   ],
   "metadata": {}
  },
  {
   "cell_type": "code",
   "execution_count": 1,
   "source": [
    "import pandas as pd\n",
    "import numpy as np"
   ],
   "outputs": [],
   "metadata": {}
  },
  {
   "cell_type": "markdown",
   "source": [
    "## Começando transformando o arquivo DP.txt em um DataFrame para melhor manipulação"
   ],
   "metadata": {}
  },
  {
   "cell_type": "code",
   "execution_count": 2,
   "source": [
    "txt_file = open('DP.txt')\n",
    "txt_new = list()\n",
    "columns = list()\n",
    "val = list()\n",
    "dit = dict()\n",
    "\n",
    "for line in txt_file:\n",
    "    line=line.rstrip('\\n')\n",
    "    txt_new.append(line)\n",
    "\n",
    "    # Pegando o nome das colunas\n",
    "    if 'Demanda' in line:\n",
    "        first_row = line.split(' ')\n",
    "        for cada in first_row:\n",
    "            if cada != '' and cada != '&' and cada != 'df' and cada != 'hf':\n",
    "                columns.append(cada)\n",
    "                \n",
    "    \n",
    "    if line.startswith('DP'):\n",
    "        item_list = list()\n",
    "        for item in line.split(' '):\n",
    "            if item != '' and item != 'DP':\n",
    "                item_list.append(item)\n",
    "                val.append(item_list)"
   ],
   "outputs": [],
   "metadata": {}
  },
  {
   "cell_type": "code",
   "execution_count": 3,
   "source": [
    "ss = list()\n",
    "di = list()\n",
    "hi = list()\n",
    "m1 = list()\n",
    "m2 = list()\n",
    "dem = list()\n",
    "for cada in val:\n",
    "    ss.append(cada[0])\n",
    "    di.append(cada[1])\n",
    "    hi.append(cada[2])\n",
    "    m1.append(cada[3])\n",
    "    m2.append(cada[4])\n",
    "    dem.append(cada[5])"
   ],
   "outputs": [],
   "metadata": {}
  },
  {
   "cell_type": "code",
   "execution_count": 4,
   "source": [
    "dit.update({columns[0]:ss, columns[1]:di, columns[2]:hi, columns[3]:m1, columns[5]:dem})"
   ],
   "outputs": [],
   "metadata": {}
  },
  {
   "cell_type": "code",
   "execution_count": 20,
   "source": [
    "df = pd.DataFrame(dit)\n",
    "df['ss'] = df['ss'].replace('1','seco').replace('2','s').replace('3','ne').replace('4','n').replace('11','imperatriz')"
   ],
   "outputs": [],
   "metadata": {}
  },
  {
   "cell_type": "code",
   "execution_count": 23,
   "source": [
    "df['hi'].unique()"
   ],
   "outputs": [
    {
     "output_type": "execute_result",
     "data": {
      "text/plain": [
       "array(['0', '1', '2', '3', '4', '5', '6', '7', '8', '9', '10', '11', '12',\n",
       "       '13', '14', '15', '16', '17', '18', '19', '20', '21', '22', '23'],\n",
       "      dtype=object)"
      ]
     },
     "metadata": {},
     "execution_count": 23
    }
   ],
   "metadata": {}
  },
  {
   "cell_type": "code",
   "execution_count": null,
   "source": [],
   "outputs": [],
   "metadata": {}
  }
 ],
 "metadata": {
  "kernelspec": {
   "name": "python3",
   "display_name": "Python 3.8.2 64-bit ('smap': conda)"
  },
  "language_info": {
   "codemirror_mode": {
    "name": "ipython",
    "version": 3
   },
   "file_extension": ".py",
   "mimetype": "text/x-python",
   "name": "python",
   "nbconvert_exporter": "python",
   "pygments_lexer": "ipython3",
   "version": "3.8.2"
  },
  "interpreter": {
   "hash": "eb8a7b46cb307c93c0dbb1ad4a66b22036c6d642c1d2382d23b07df093a7d948"
  }
 },
 "nbformat": 4,
 "nbformat_minor": 4
}