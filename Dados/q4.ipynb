{
 "cells": [
  {
   "cell_type": "code",
   "execution_count": 2,
   "source": [
    "import requests\n",
    "import numpy as np\n",
    "import pandas as pd\n",
    "import datetime\n",
    "import xarray as xr\n",
    "import urllib"
   ],
   "outputs": [],
   "metadata": {}
  },
  {
   "cell_type": "code",
   "execution_count": 85,
   "source": [
    "190-360"
   ],
   "outputs": [
    {
     "output_type": "execute_result",
     "data": {
      "text/plain": [
       "-170"
      ]
     },
     "metadata": {},
     "execution_count": 85
    }
   ],
   "metadata": {}
  },
  {
   "cell_type": "code",
   "execution_count": null,
   "source": [
    "def longitude_formatter(val=float):\n",
    "    '''\n",
    "    Adapta longitude de -180 > 180 para 0 > 360\n",
    "    Se o valor for menor do que 180, ele se mantém.\n",
    "    Se for entre -180 e 0, soma-se 360\n",
    "    '''\n",
    "    if val <=0 and val >= 180:\n",
    "        val += 360\n",
    "    return val"
   ],
   "outputs": [],
   "metadata": {}
  },
  {
   "cell_type": "code",
   "execution_count": 3,
   "source": [
    "import urllib\n",
    "url = 'https://www.ncei.noaa.gov/data/sea-surface-temperature-optimum-interpolation/v2.1/access/avhrr/202109/oisst-avhrr-v02r01.20210910.nc'\n",
    "temp_nc = \"/tmp/tmp.nc\"\n",
    "urllib.request.urlretrieve(url, temp_nc)"
   ],
   "outputs": [
    {
     "output_type": "execute_result",
     "data": {
      "text/plain": [
       "('/tmp/tmp.nc', <http.client.HTTPMessage at 0x7f21899275b0>)"
      ]
     },
     "metadata": {},
     "execution_count": 3
    }
   ],
   "metadata": {}
  },
  {
   "cell_type": "code",
   "execution_count": 79,
   "source": [
    "def dataset_reader(path, lat_slice, lon_slice):\n",
    "    '''\n",
    "    Lê o dado netcdf e recorta lat e lon.\n",
    "    '''\n",
    "    sst = xr.open_dataset(temp_nc)\n",
    "\n",
    "    # deve entrar o <longitude_formatter()> pra adaptar os valores de entrada em lon_slice pros padrões do dataset (0-360)\n",
    "    sst_cut = sst.sel(lat=slice(lat_slice[0], lat_slice[1]))\n",
    "    sst_cut = sst_cut.sel(lon=slice(lon_slice[0], lon_slice[1]))"
   ],
   "outputs": [],
   "metadata": {}
  },
  {
   "cell_type": "code",
   "execution_count": null,
   "source": [],
   "outputs": [],
   "metadata": {}
  }
 ],
 "metadata": {
  "kernelspec": {
   "name": "python3",
   "display_name": "Python 3.8.2 64-bit ('smap': conda)"
  },
  "language_info": {
   "codemirror_mode": {
    "name": "ipython",
    "version": 3
   },
   "file_extension": ".py",
   "mimetype": "text/x-python",
   "name": "python",
   "nbconvert_exporter": "python",
   "pygments_lexer": "ipython3",
   "version": "3.8.2"
  },
  "interpreter": {
   "hash": "eb8a7b46cb307c93c0dbb1ad4a66b22036c6d642c1d2382d23b07df093a7d948"
  }
 },
 "nbformat": 4,
 "nbformat_minor": 4
}